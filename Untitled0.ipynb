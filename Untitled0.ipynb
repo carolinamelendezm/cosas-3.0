{
  "nbformat": 4,
  "nbformat_minor": 0,
  "metadata": {
    "colab": {
      "provenance": []
    },
    "kernelspec": {
      "name": "python3",
      "display_name": "Python 3"
    },
    "language_info": {
      "name": "python"
    }
  },
  "cells": [
    {
      "cell_type": "code",
      "execution_count": 6,
      "metadata": {
        "colab": {
          "base_uri": "https://localhost:8080/"
        },
        "id": "cwM7c4nSNhFP",
        "outputId": "ab91d801-b85a-4f0c-c83a-e96a0cbc5140"
      },
      "outputs": [
        {
          "output_type": "stream",
          "name": "stdout",
          "text": [
            "Requirement already satisfied: pygame in /usr/local/lib/python3.10/dist-packages (2.5.2)\n"
          ]
        }
      ],
      "source": [
        "!pip install pygame"
      ]
    },
    {
      "cell_type": "code",
      "source": [
        "import pygame\n",
        "import sys\n",
        "import random\n",
        "\n",
        "# Inicializar Pygame\n",
        "pygame.init()\n",
        "\n",
        "# Configuración de la pantalla\n",
        "width, height = 600, 200\n",
        "screen = pygame.display.set_mode((width, height))\n",
        "pygame.display.set_caption(\"Dinosaur Game\")\n",
        "\n",
        "# Colores\n",
        "white = (255, 255, 255)\n",
        "black = (0, 0, 0)\n",
        "\n",
        "# Dinosaurio\n",
        "dino_width = 50\n",
        "dino_height = 50\n",
        "dino_x = 50\n",
        "dino_y = height - dino_height - 5\n",
        "\n",
        "# Obstacle\n",
        "obs_width = 20\n",
        "obs_height = 50\n",
        "obs_x = width\n",
        "obs_y = height - obs_height - 5\n",
        "obs_speed = 5\n",
        "\n",
        "# Saltar\n",
        "jumping = False\n",
        "jump_count = 10\n",
        "\n",
        "# Reloj\n",
        "clock = pygame.time.Clock()\n",
        "\n",
        "def draw_dino(x, y):\n",
        "    pygame.draw.rect(screen, white, [x, y, dino_width, dino_height])\n",
        "\n",
        "def draw_obstacle(x, y):\n",
        "    pygame.draw.rect(screen, white, [x, y, obs_width, obs_height])\n",
        "\n",
        "# Juego\n",
        "while True:\n",
        "    for event in pygame.event.get():\n",
        "        if event.type == pygame.QUIT:\n",
        "            pygame.quit()\n",
        "            sys.exit()\n",
        "\n",
        "    keys = pygame.key.get_pressed()\n",
        "    if keys[pygame.K_SPACE] and not jumping:\n",
        "        jumping = True\n",
        "\n",
        "    if jumping:\n",
        "        if jump_count >= -10:\n",
        "            neg = 1\n",
        "            if jump_count < 0:\n",
        "                neg = -1\n",
        "            dino_y -= (jump_count ** 2) * 0.5 * neg\n",
        "            jump_count -= 1\n",
        "        else:\n",
        "            jumping = False\n",
        "            jump_count = 10\n",
        "\n",
        "    # Mover el obstáculo\n",
        "    obs_x -= obs_speed\n",
        "    if obs_x < 0:\n",
        "        obs_x = width\n",
        "        obs_y = height - obs_height - 5\n",
        "\n",
        "    # Dibujar elementos\n",
        "    screen.fill(black)\n",
        "    draw_dino(dino_x, dino_y)\n",
        "    draw_obstacle(obs_x, obs_y)\n",
        "\n",
        "    # Actualizar pantalla\n",
        "    pygame.display.flip()\n",
        "\n",
        "    # Limitar la velocidad del juego\n",
        "    clock.tick(30)\n"
      ],
      "metadata": {
        "colab": {
          "base_uri": "https://localhost:8080/",
          "height": 214
        },
        "id": "k-u1jtjQO67C",
        "outputId": "fb95923f-ee98-44e7-f81c-c53ab3ccfad4"
      },
      "execution_count": 7,
      "outputs": [
        {
          "output_type": "error",
          "ename": "KeyboardInterrupt",
          "evalue": "ignored",
          "traceback": [
            "\u001b[0;31m---------------------------------------------------------------------------\u001b[0m",
            "\u001b[0;31mKeyboardInterrupt\u001b[0m                         Traceback (most recent call last)",
            "\u001b[0;32m<ipython-input-7-f1a050a9916c>\u001b[0m in \u001b[0;36m<cell line: 44>\u001b[0;34m()\u001b[0m\n\u001b[1;32m     78\u001b[0m \u001b[0;34m\u001b[0m\u001b[0m\n\u001b[1;32m     79\u001b[0m     \u001b[0;31m# Limitar la velocidad del juego\u001b[0m\u001b[0;34m\u001b[0m\u001b[0;34m\u001b[0m\u001b[0m\n\u001b[0;32m---> 80\u001b[0;31m     \u001b[0mclock\u001b[0m\u001b[0;34m.\u001b[0m\u001b[0mtick\u001b[0m\u001b[0;34m(\u001b[0m\u001b[0;36m30\u001b[0m\u001b[0;34m)\u001b[0m\u001b[0;34m\u001b[0m\u001b[0;34m\u001b[0m\u001b[0m\n\u001b[0m",
            "\u001b[0;31mKeyboardInterrupt\u001b[0m: "
          ]
        }
      ]
    }
  ]
}